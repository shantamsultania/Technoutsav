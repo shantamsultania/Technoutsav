{
  "nbformat": 4,
  "nbformat_minor": 0,
  "metadata": {
    "colab": {
      "name": "Testing for in a picture",
      "provenance": []
    },
    "kernelspec": {
      "name": "python3",
      "display_name": "Python 3"
    }
  },
  "cells": [
    {
      "cell_type": "code",
      "metadata": {
        "id": "CBeoge-JAAwO",
        "colab_type": "code",
        "colab": {
          "base_uri": "https://localhost:8080/",
          "height": 292
        },
        "outputId": "c1759ace-87d5-43f6-ad50-a25d872e8253"
      },
      "source": [
        "!pip install flask-ngrok"
      ],
      "execution_count": null,
      "outputs": [
        {
          "output_type": "stream",
          "text": [
            "Collecting flask-ngrok\n",
            "  Downloading https://files.pythonhosted.org/packages/af/6c/f54cb686ad1129e27d125d182f90f52b32f284e6c8df58c1bae54fa1adbc/flask_ngrok-0.0.25-py3-none-any.whl\n",
            "Requirement already satisfied: Flask>=0.8 in /usr/local/lib/python3.6/dist-packages (from flask-ngrok) (1.1.2)\n",
            "Requirement already satisfied: requests in /usr/local/lib/python3.6/dist-packages (from flask-ngrok) (2.23.0)\n",
            "Requirement already satisfied: Werkzeug>=0.15 in /usr/local/lib/python3.6/dist-packages (from Flask>=0.8->flask-ngrok) (1.0.1)\n",
            "Requirement already satisfied: Jinja2>=2.10.1 in /usr/local/lib/python3.6/dist-packages (from Flask>=0.8->flask-ngrok) (2.11.2)\n",
            "Requirement already satisfied: click>=5.1 in /usr/local/lib/python3.6/dist-packages (from Flask>=0.8->flask-ngrok) (7.1.2)\n",
            "Requirement already satisfied: itsdangerous>=0.24 in /usr/local/lib/python3.6/dist-packages (from Flask>=0.8->flask-ngrok) (1.1.0)\n",
            "Requirement already satisfied: idna<3,>=2.5 in /usr/local/lib/python3.6/dist-packages (from requests->flask-ngrok) (2.10)\n",
            "Requirement already satisfied: chardet<4,>=3.0.2 in /usr/local/lib/python3.6/dist-packages (from requests->flask-ngrok) (3.0.4)\n",
            "Requirement already satisfied: certifi>=2017.4.17 in /usr/local/lib/python3.6/dist-packages (from requests->flask-ngrok) (2020.6.20)\n",
            "Requirement already satisfied: urllib3!=1.25.0,!=1.25.1,<1.26,>=1.21.1 in /usr/local/lib/python3.6/dist-packages (from requests->flask-ngrok) (1.24.3)\n",
            "Requirement already satisfied: MarkupSafe>=0.23 in /usr/local/lib/python3.6/dist-packages (from Jinja2>=2.10.1->Flask>=0.8->flask-ngrok) (1.1.1)\n",
            "Installing collected packages: flask-ngrok\n",
            "Successfully installed flask-ngrok-0.0.25\n"
          ],
          "name": "stdout"
        }
      ]
    },
    {
      "cell_type": "code",
      "metadata": {
        "id": "ZYbnbExrAVCN",
        "colab_type": "code",
        "colab": {}
      },
      "source": [
        "import numpy as np\n",
        "import cv2\n",
        "from flask import Flask,render_template,request\n",
        "from werkzeug.utils import secure_filename\n",
        "import pickle\n",
        "import tensorflow as tf\n",
        "import numpy \n",
        "from flask_ngrok import run_with_ngrok\n",
        "from tensorflow.python.keras.preprocessing import image\n",
        "from tensorflow.python.keras.preprocessing.image import img_to_array"
      ],
      "execution_count": null,
      "outputs": []
    },
    {
      "cell_type": "code",
      "metadata": {
        "id": "5TRTxgpbALZp",
        "colab_type": "code",
        "colab": {
          "base_uri": "https://localhost:8080/",
          "height": 34
        },
        "outputId": "906c6eb7-e34b-40ae-dd76-99ea06315674"
      },
      "source": [
        "# model try out \n",
        "\n",
        "modelloaded = tf.keras.models.load_model('/content/drive/My Drive/flask api/trained_model.h5')\n",
        "def convert_image_to_array(image_dir):\n",
        "    default_image_size = tuple((64, 64))\n",
        "    try:\n",
        "        image = cv2.imread(image_dir)\n",
        "        if image is not None :\n",
        "            image = cv2.resize(image, default_image_size)\n",
        "            img = img_to_array(image)\n",
        "            img2 = np.expand_dims(img,0)\n",
        "            return img2\n",
        "        else :\n",
        "            return np.array([])\n",
        "    except Exception as e:\n",
        "        print(\"Error :\", e)\n",
        "        return None\n",
        "\n",
        "\n",
        "\n",
        "image =\"/content/drive/My Drive/flask api/test2.JPG\"\n",
        "\n",
        "cag = [\"Apple___Apple_scab\", \"Apple___Black_rot\", \"Apple___Cedar_apple_rust\",'Apple___healthy', 'Blueberry___healthy',\n",
        "           'Cherry_(including_sour)___Powdery_mildew','Cherry_(including_sour)___healthy','Corn_(maize)___Cercospora_leaf_spot Gray_leaf_spot',\n",
        "           'Corn_(maize)___Common_rust_', 'Corn_(maize)___Northern_Leaf_Blight','Corn_(maize)___healthy', 'Grape___Black_rot',\n",
        "           'Grape___Esca_(Black_Measles)','Grape___Leaf_blight_(Isariopsis_Leaf_Spot)', 'Grape___healthy',\n",
        "           'Orange___Haunglongbing_(Citrus_greening)', 'Peach___Bacterial_spot','Peach___healthy', 'Pepper_bell___Bacterial_spot',\n",
        "           'Potato___Early_blight', 'Potato___Late_blight','Potato___healthy', 'Raspberry___healthy', 'Soybean___healthy',\n",
        "           'Squash___Powdery_mildew', 'Strawberry___Leaf_scorch','Strawberry___healthy', 'Tomato___Bacterial_spot', 'Tomato___Early_blight',\n",
        "           'Tomato___Late_blight', 'Tomato___Leaf_Mold', 'Tomato___Septoria_leaf_spot','Tomato___Spider_mites Two-spotted_spider_mite', 'Tomato___Target_Spot',\n",
        "           'Tomato___Tomato_Yellow_Leaf_Curl_Virus', 'Tomato___Tomato_mosaic_virus','Tomato___healthy']\n",
        "    \n",
        "predict = modelloaded.predict([convert_image_to_array(image)])\n",
        "x = np.where(predict == 1.)\n",
        "f = int(x[1])\n",
        "print(cag[f])\n",
        "\n"
      ],
      "execution_count": null,
      "outputs": [
        {
          "output_type": "stream",
          "text": [
            "Pepper_bell___Bacterial_spot\n"
          ],
          "name": "stdout"
        }
      ]
    },
    {
      "cell_type": "code",
      "metadata": {
        "id": "4eKCFC6HALbn",
        "colab_type": "code",
        "colab": {
          "base_uri": "https://localhost:8080/",
          "height": 544
        },
        "outputId": "e4bb9aa7-001d-4ddc-a04b-f7800f0ef355"
      },
      "source": [
        "app=Flask(__name__,template_folder='/content/drive/My Drive/flask api/template/')\n",
        "run_with_ngrok(app)\n",
        "\n",
        "modelloaded = tf.keras.models.load_model('/content/drive/My Drive/flask api/trained_model.h5')\n",
        "\n",
        "@app.route('/')\n",
        "def home():\n",
        "    return render_template('plant detection.html')\n",
        "@app.route('/picture',methods = ['post','get'])\n",
        "def upload_file():\n",
        "   if request.method == 'POST':\n",
        "      f = request.files['img']\n",
        "      f.save(secure_filename(f.filename))\n",
        "      result = predict(f.filename,modelloaded)\n",
        "      return render_template('plant detection.html',info= result)\n",
        "\n",
        "def predict(image,modelloaded):\n",
        "    categories = [\"Apple___Apple_scab\", \"Apple___Black_rot\", \"Apple___Cedar_apple_rust\",'Apple___healthy', 'Blueberry___healthy',\n",
        "           'Cherry_(including_sour)___Powdery_mildew','Cherry_(including_sour)___healthy','Corn_(maize)___Cercospora_leaf_spot Gray_leaf_spot',\n",
        "           'Corn_(maize)___Common_rust_', 'Corn_(maize)___Northern_Leaf_Blight','Corn_(maize)___healthy', 'Grape___Black_rot',\n",
        "           'Grape___Esca_(Black_Measles)','Grape___Leaf_blight_(Isariopsis_Leaf_Spot)', 'Grape___healthy',\n",
        "           'Orange___Haunglongbing_(Citrus_greening)', 'Peach___Bacterial_spot','Peach___healthy', 'Pepper_bell___Bacterial_spot',\n",
        "           'Potato___Early_blight', 'Potato___Late_blight','Potato___healthy', 'Raspberry___healthy', 'Soybean___healthy',\n",
        "           'Squash___Powdery_mildew', 'Strawberry___Leaf_scorch','Strawberry___healthy', 'Tomato___Bacterial_spot', 'Tomato___Early_blight',\n",
        "           'Tomato___Late_blight', 'Tomato___Leaf_Mold', 'Tomato___Septoria_leaf_spot','Tomato___Spider_mites Two-spotted_spider_mite', 'Tomato___Target_Spot',\n",
        "           'Tomato___Tomato_Yellow_Leaf_Curl_Virus', 'Tomato___Tomato_mosaic_virus','Tomato___healthy']\n",
        "    predict = modelloaded.predict([convert_image_to_array(image)])\n",
        "    x = np.where(predict == 1)\n",
        "    print(x)\n",
        "    f = int(x[1])\n",
        "    print(f)\n",
        "    return categories[f]\n",
        "\n",
        "def convert_image_to_array(image_dir):\n",
        "    default_image_size = tuple((64, 64))\n",
        "    try:\n",
        "        image = cv2.imread(image_dir)\n",
        "        if image is not None :\n",
        "            image = cv2.resize(image, default_image_size)\n",
        "            img = img_to_array(image)\n",
        "            img2 = np.expand_dims(img,0)\n",
        "            return img2\n",
        "        else :\n",
        "            return np.array([])\n",
        "    except Exception as e:\n",
        "        print(\"Error :\", e)\n",
        "        return None\n",
        "\n",
        "if __name__==\"__main__\":\n",
        "    app.run()"
      ],
      "execution_count": null,
      "outputs": [
        {
          "output_type": "stream",
          "text": [
            " * Serving Flask app \"__main__\" (lazy loading)\n",
            " * Environment: production\n",
            "\u001b[31m   WARNING: This is a development server. Do not use it in a production deployment.\u001b[0m\n",
            "\u001b[2m   Use a production WSGI server instead.\u001b[0m\n",
            " * Debug mode: off\n"
          ],
          "name": "stdout"
        },
        {
          "output_type": "stream",
          "text": [
            " * Running on http://127.0.0.1:5000/ (Press CTRL+C to quit)\n"
          ],
          "name": "stderr"
        },
        {
          "output_type": "stream",
          "text": [
            " * Running on http://76f877dd11a1.ngrok.io\n",
            " * Traffic stats available on http://127.0.0.1:4040\n"
          ],
          "name": "stdout"
        },
        {
          "output_type": "stream",
          "text": [
            "127.0.0.1 - - [18/Jul/2020 22:30:55] \"\u001b[37mGET / HTTP/1.1\u001b[0m\" 200 -\n",
            "127.0.0.1 - - [18/Jul/2020 22:30:57] \"\u001b[33mGET /favicon.ico HTTP/1.1\u001b[0m\" 404 -\n",
            "[2020-07-18 22:31:01,752] ERROR in app: Exception on /picture [POST]\n",
            "Traceback (most recent call last):\n",
            "  File \"/usr/local/lib/python3.6/dist-packages/flask/app.py\", line 2447, in wsgi_app\n",
            "    response = self.full_dispatch_request()\n",
            "  File \"/usr/local/lib/python3.6/dist-packages/flask/app.py\", line 1952, in full_dispatch_request\n",
            "    rv = self.handle_user_exception(e)\n",
            "  File \"/usr/local/lib/python3.6/dist-packages/flask/app.py\", line 1821, in handle_user_exception\n",
            "    reraise(exc_type, exc_value, tb)\n",
            "  File \"/usr/local/lib/python3.6/dist-packages/flask/_compat.py\", line 39, in reraise\n",
            "    raise value\n",
            "  File \"/usr/local/lib/python3.6/dist-packages/flask/app.py\", line 1950, in full_dispatch_request\n",
            "    rv = self.dispatch_request()\n",
            "  File \"/usr/local/lib/python3.6/dist-packages/flask/app.py\", line 1936, in dispatch_request\n",
            "    return self.view_functions[rule.endpoint](**req.view_args)\n",
            "  File \"<ipython-input-13-d62e83376cea>\", line 13, in upload_file\n",
            "    result = predict(f.filename,modelloaded)\n",
            "  File \"<ipython-input-13-d62e83376cea>\", line 29, in predict\n",
            "    f = int(x[0][1])\n",
            "IndexError: index 1 is out of bounds for axis 0 with size 1\n",
            "127.0.0.1 - - [18/Jul/2020 22:31:01] \"\u001b[35m\u001b[1mPOST /picture HTTP/1.1\u001b[0m\" 500 -\n"
          ],
          "name": "stderr"
        },
        {
          "output_type": "stream",
          "text": [
            "(array([0]), array([18]))\n"
          ],
          "name": "stdout"
        }
      ]
    },
    {
      "cell_type": "code",
      "metadata": {
        "id": "hOrZnS9HALfA",
        "colab_type": "code",
        "colab": {}
      },
      "source": [
        ""
      ],
      "execution_count": null,
      "outputs": []
    },
    {
      "cell_type": "code",
      "metadata": {
        "id": "UcOlUC1mALs6",
        "colab_type": "code",
        "colab": {}
      },
      "source": [
        ""
      ],
      "execution_count": null,
      "outputs": []
    },
    {
      "cell_type": "code",
      "metadata": {
        "id": "3GDfLSk6ALvN",
        "colab_type": "code",
        "colab": {}
      },
      "source": [
        ""
      ],
      "execution_count": null,
      "outputs": []
    },
    {
      "cell_type": "code",
      "metadata": {
        "id": "nBEC-Jt3ALyY",
        "colab_type": "code",
        "colab": {}
      },
      "source": [
        ""
      ],
      "execution_count": null,
      "outputs": []
    }
  ]
}