{
  "nbformat": 4,
  "nbformat_minor": 0,
  "metadata": {
    "colab": {
      "name": "Plant Diagnosis in a real time detection",
      "provenance": []
    },
    "kernelspec": {
      "name": "python3",
      "display_name": "Python 3"
    }
  },
  "cells": [
    {
      "cell_type": "code",
      "metadata": {
        "id": "qB4YVGN6VKlc",
        "colab_type": "code",
        "colab": {
          "base_uri": "https://localhost:8080/",
          "height": 241
        },
        "outputId": "e84291f3-6bcf-4aa0-9edc-34690e42c5fd"
      },
      "source": [
        "!pip install flask-ngrok"
      ],
      "execution_count": 2,
      "outputs": [
        {
          "output_type": "stream",
          "text": [
            "Requirement already satisfied: flask-ngrok in /usr/local/lib/python3.6/dist-packages (0.0.25)\n",
            "Requirement already satisfied: Flask>=0.8 in /usr/local/lib/python3.6/dist-packages (from flask-ngrok) (1.1.2)\n",
            "Requirement already satisfied: requests in /usr/local/lib/python3.6/dist-packages (from flask-ngrok) (2.23.0)\n",
            "Requirement already satisfied: itsdangerous>=0.24 in /usr/local/lib/python3.6/dist-packages (from Flask>=0.8->flask-ngrok) (1.1.0)\n",
            "Requirement already satisfied: Jinja2>=2.10.1 in /usr/local/lib/python3.6/dist-packages (from Flask>=0.8->flask-ngrok) (2.11.2)\n",
            "Requirement already satisfied: click>=5.1 in /usr/local/lib/python3.6/dist-packages (from Flask>=0.8->flask-ngrok) (7.1.2)\n",
            "Requirement already satisfied: Werkzeug>=0.15 in /usr/local/lib/python3.6/dist-packages (from Flask>=0.8->flask-ngrok) (1.0.1)\n",
            "Requirement already satisfied: idna<3,>=2.5 in /usr/local/lib/python3.6/dist-packages (from requests->flask-ngrok) (2.10)\n",
            "Requirement already satisfied: chardet<4,>=3.0.2 in /usr/local/lib/python3.6/dist-packages (from requests->flask-ngrok) (3.0.4)\n",
            "Requirement already satisfied: certifi>=2017.4.17 in /usr/local/lib/python3.6/dist-packages (from requests->flask-ngrok) (2020.6.20)\n",
            "Requirement already satisfied: urllib3!=1.25.0,!=1.25.1,<1.26,>=1.21.1 in /usr/local/lib/python3.6/dist-packages (from requests->flask-ngrok) (1.24.3)\n",
            "Requirement already satisfied: MarkupSafe>=0.23 in /usr/local/lib/python3.6/dist-packages (from Jinja2>=2.10.1->Flask>=0.8->flask-ngrok) (1.1.1)\n"
          ],
          "name": "stdout"
        }
      ]
    },
    {
      "cell_type": "code",
      "metadata": {
        "id": "s8S2DNslVbBV",
        "colab_type": "code",
        "colab": {
          "base_uri": "https://localhost:8080/",
          "height": 207
        },
        "outputId": "dcab2db6-c9fa-4644-bfc5-f1bb6eae3a95"
      },
      "source": [
        "!pip install responses"
      ],
      "execution_count": 7,
      "outputs": [
        {
          "output_type": "stream",
          "text": [
            "Collecting responses\n",
            "  Downloading https://files.pythonhosted.org/packages/06/4c/4cc4a9ad8a592692d579660d9040d5693b30cb066e4ba4159aa4a5e5fb65/responses-0.10.15-py2.py3-none-any.whl\n",
            "Requirement already satisfied: six in /usr/local/lib/python3.6/dist-packages (from responses) (1.12.0)\n",
            "Requirement already satisfied: requests>=2.0 in /usr/local/lib/python3.6/dist-packages (from responses) (2.23.0)\n",
            "Requirement already satisfied: chardet<4,>=3.0.2 in /usr/local/lib/python3.6/dist-packages (from requests>=2.0->responses) (3.0.4)\n",
            "Requirement already satisfied: urllib3!=1.25.0,!=1.25.1,<1.26,>=1.21.1 in /usr/local/lib/python3.6/dist-packages (from requests>=2.0->responses) (1.24.3)\n",
            "Requirement already satisfied: certifi>=2017.4.17 in /usr/local/lib/python3.6/dist-packages (from requests>=2.0->responses) (2020.6.20)\n",
            "Requirement already satisfied: idna<3,>=2.5 in /usr/local/lib/python3.6/dist-packages (from requests>=2.0->responses) (2.10)\n",
            "Installing collected packages: responses\n",
            "Successfully installed responses-0.10.15\n"
          ],
          "name": "stdout"
        }
      ]
    },
    {
      "cell_type": "code",
      "metadata": {
        "id": "qDi7-4KkVQD_",
        "colab_type": "code",
        "colab": {}
      },
      "source": [
        "import numpy as np\n",
        "import cv2\n",
        "from flask import Flask, render_template, request, Response\n",
        "from werkzeug.utils import secure_filename\n",
        "import pickle\n",
        "import tensorflow as tf\n",
        "import numpy \n",
        "from flask_ngrok import run_with_ngrok\n",
        "from tensorflow.python.keras.preprocessing import image\n",
        "from tensorflow.python.keras.preprocessing.image import img_to_array\n",
        "import os\n",
        "import time\n",
        "import json\n",
        "import pandas as pd\n",
        "import responses\n",
        "import requests\n",
        "from tensorflow.python.keras.preprocessing import image\n",
        "from tensorflow.python.keras.preprocessing.image import img_to_array\n",
        "\n"
      ],
      "execution_count": 8,
      "outputs": []
    },
    {
      "cell_type": "code",
      "metadata": {
        "id": "UQlWOM70BUQg",
        "colab_type": "code",
        "colab": {}
      },
      "source": [
        "# model try out \n",
        "\n",
        "modelloaded = tf.keras.models.load_model('/content/drive/My Drive/flask api/trained_model.h5')\n",
        "def convert_image_to_array(image_dir):\n",
        "    default_image_size = tuple((64, 64))\n",
        "    try:\n",
        "        image = cv2.imread(image_dir)\n",
        "        if image is not None :\n",
        "            image = cv2.resize(image, default_image_size)\n",
        "            img = img_to_array(image)\n",
        "            img2 = np.expand_dims(img,0)\n",
        "            return img2\n",
        "        else :\n",
        "            return np.array([])\n",
        "    except Exception as e:\n",
        "        print(\"Error :\", e)\n",
        "        return None\n",
        "\n",
        "\n",
        "\n",
        "image =\"/content/drive/My Drive/flask api/test2.JPG\"\n",
        "\n",
        "cag = [\"Apple___Apple_scab\", \"Apple___Black_rot\", \"Apple___Cedar_apple_rust\",'Apple___healthy', 'Blueberry___healthy',\n",
        "           'Cherry_(including_sour)___Powdery_mildew','Cherry_(including_sour)___healthy','Corn_(maize)___Cercospora_leaf_spot Gray_leaf_spot',\n",
        "           'Corn_(maize)___Common_rust_', 'Corn_(maize)___Northern_Leaf_Blight','Corn_(maize)___healthy', 'Grape___Black_rot',\n",
        "           'Grape___Esca_(Black_Measles)','Grape___Leaf_blight_(Isariopsis_Leaf_Spot)', 'Grape___healthy',\n",
        "           'Orange___Haunglongbing_(Citrus_greening)', 'Peach___Bacterial_spot','Peach___healthy', 'Pepper_bell___Bacterial_spot',\n",
        "           'Potato___Early_blight', 'Potato___Late_blight','Potato___healthy', 'Raspberry___healthy', 'Soybean___healthy',\n",
        "           'Squash___Powdery_mildew', 'Strawberry___Leaf_scorch','Strawberry___healthy', 'Tomato___Bacterial_spot', 'Tomato___Early_blight',\n",
        "           'Tomato___Late_blight', 'Tomato___Leaf_Mold', 'Tomato___Septoria_leaf_spot','Tomato___Spider_mites Two-spotted_spider_mite', 'Tomato___Target_Spot',\n",
        "           'Tomato___Tomato_Yellow_Leaf_Curl_Virus', 'Tomato___Tomato_mosaic_virus','Tomato___healthy']\n",
        "    \n",
        "predict = modelloaded.predict([convert_image_to_array(image)])\n",
        "x = np.where(predict == 1.)\n",
        "f = int(x[1])\n",
        "print(cag[f])\n",
        "\n"
      ],
      "execution_count": null,
      "outputs": []
    },
    {
      "cell_type": "code",
      "metadata": {
        "id": "EQvSoVqXVQGG",
        "colab_type": "code",
        "colab": {
          "base_uri": "https://localhost:8080/",
          "height": 255
        },
        "outputId": "3664301b-14cd-4481-9553-2a60087333b9"
      },
      "source": [
        "app = Flask(__name__,template_folder='/content/drive/My Drive/Plant Diagnosis/template',static_folder='/content/drive/My Drive/Plant Diagnosis/static')\n",
        "\n",
        "\n",
        "run_with_ngrok(app)\n",
        "@app.route('/')\n",
        "def home():\n",
        "    return render_template('plant1.html')\n",
        "\n",
        "path = \"/content/drive/My Drive/Plant Diagnosis/data\"\n",
        "orb = cv2.ORB_create(nfeatures=1000)\n",
        "images = []\n",
        "classname = []\n",
        "myList = os.listdir(path)\n",
        "\n",
        "cam = cv2.VideoCapture(\"\")\n",
        "\n",
        "for c1 in myList:\n",
        "    imgCur = cv2.imread(f'{path}/{c1}',0)\n",
        "    images.append(imgCur)\n",
        "    classname.append(os.path.splitext(c1)[0])\n",
        "\n",
        "def findDes(images):\n",
        "    desList = []\n",
        "    for img in images:\n",
        "        kp,des = orb.detectAndCompute(img,None)\n",
        "        desList.append(des)\n",
        "    return desList\n",
        "desList = findDes(images)\n",
        "\n",
        "def findId(frame,desList):\n",
        "    kp2, des2 = orb.detectAndCompute(frame, None)\n",
        "    bf = cv2.BFMatcher()\n",
        "    matchList= []\n",
        "    finalVal = -1\n",
        "    try:\n",
        "        for i in desList:\n",
        "            matches = bf.knnMatch(i, des2, k=2)\n",
        "            good_res = []\n",
        "            for j, k in matches:\n",
        "                if j.distance < 0.75 * k.distance:\n",
        "                    good_res.append(j)\n",
        "            matchList.append(len(good_res))\n",
        "    except:\n",
        "        pass\n",
        "    if(len(matchList)!=0):\n",
        "        if(max(matchList)>=15):\n",
        "            finalVal =matchList.index(max(matchList))\n",
        "\n",
        "    return finalVal\n",
        "\n",
        "\n",
        "def get_frame():\n",
        "    port=0\n",
        "    camera=cv2.VideoCapture(port)\n",
        "\n",
        "    while (camera.isOpened()):\n",
        "        retval, frame = camera.read()\n",
        "        if retval == True:\n",
        "            frame_ori = frame.copy()\n",
        "            frame = cv2.cvtColor(frame, cv2.COLOR_BGR2GRAY)\n",
        "            newList = []\n",
        "            res_id = findId(frame, desList)\n",
        "            if (res_id != -1):\n",
        "                cv2.putText(frame_ori, classname[res_id], (50, 50), cv2.FONT_HERSHEY_COMPLEX, 1, (0, 0, 255), 1)\n",
        "                newList.append(classname[res_id])\n",
        "            # send_data(newList)\n",
        "            if(len(newList)!= 0):\n",
        "                print(newList)\n",
        "                send_data(newList)\n",
        "            #print(newList)\n",
        "            frame_res = cv2.imencode('.jpg', frame_ori)[1].tobytes()\n",
        "            yield (b'--frame\\r\\n'\n",
        "                   b'Content-Type: image/jpeg\\r\\n\\r\\n' + frame_res + b'\\r\\n')\n",
        "            time.sleep(1)\n",
        "        else:\n",
        "            break\n",
        "\n",
        "\n",
        "def send_data(newList):\n",
        "    # open output file for writing\n",
        "    with open('/content/drive/My Drive/Plant Diagnosis/listfile.txt', 'w+') as filehandle:\n",
        "        json.dump(newList, filehandle)\n",
        "def get_data():\n",
        "    # open output file for reading\n",
        "    with open('/content/drive/My Drive/Plant Diagnosis/listfile.txt', 'r') as filehandle:\n",
        "        basicList = json.load(filehandle)\n",
        "    return basicList\n",
        "\n",
        "\n",
        "def result(var):\n",
        "    df = pd.read_csv(\"/content/drive/My Drive/Plant Diagnosis/sampledata.csv\", index_col='diease name')\n",
        "    # var = 'orange diease '\n",
        "    diease = df.loc[var]\n",
        "    return diease\n",
        "\n",
        "\n",
        "def temp():\n",
        "  api_key = \"1b5658d16227cbb5655c96093a3564af\"\n",
        "  base_url = \"http://api.openweathermap.org/data/2.5/weather?\"\n",
        "  city_name = \"dehradun\"\n",
        "  complete_url = base_url + \"appid=\" + api_key + \"&q=\" + city_name\n",
        "  response = requests.get(complete_url)\n",
        "  x = response.json()\n",
        "  z = x[\"weather\"]\n",
        "  if x[\"cod\"] != \"404\":\n",
        "    y = x[\"main\"]\n",
        "    return y,z\n",
        "  else:\n",
        "    return (\" City Not Found \") \n",
        "\n",
        "def heatindex(vTemperature,vRelativeHumidity):\n",
        "  if vTemperature >= 0:\n",
        "    vFeelsLike = 0.5 * (vTemperature + 61.0 + ((vTemperature-68.0)*1.2) + (vRelativeHumidity*0.094))\n",
        "    if vFeelsLike >= 80:\n",
        "      vFeelsLike = -42.379 + 2.04901523*vTemperature + 10.14333127*vRelativeHumidity - .22475541*vTemperature*vRelativeHumidity - .00683783*vTemperature*vTemperature - .05481717*vRelativeHumidity*vRelativeHumidity + .00122874*vTemperature*vTemperature*vRelativeHumidity + .00085282*vTemperature*vRelativeHumidity*vRelativeHumidity - .00000199*vTemperature*vTemperature*vRelativeHumidity*vRelativeHumidity\n",
        "      if vRelativeHumidity < 13 and vTemperature >= 80 and vTemperature <= 112:\n",
        "        vFeelsLike = vFeelsLike - ((13-vRelativeHumidity)/4)*math.sqrt((17-math.fabs(vTemperature-95.))/17)\n",
        "        if vRelativeHumidity > 85 and vTemperature >= 80 and vTemperature <= 87:\n",
        "          vFeelsLike = vFeelsLike + ((vRelativeHumidity-85)/10) * ((87-vTemperature)/5)\t\t\t\t\n",
        "  c= ((vFeelsLike-32) * 5/9)\n",
        "  return c\n",
        "\n",
        "@app.route('/calc')\n",
        "def calc():\n",
        "     return Response(get_frame(),mimetype='multipart/x-mixed-replace; boundary=frame')\n",
        "\n",
        "@app.route('/data')\n",
        "def data():\n",
        "    var = data1()\n",
        "    print(var)\n",
        "    df = pd.read_csv(\"/content/drive/My Drive/Plant Diagnosis/sampledata.csv\", index_col='diease name')\n",
        "    res = df.loc[var]\n",
        "    y,z = temp()\n",
        "    current_temperature = y[\"temp\"]\n",
        "    current_pressure = y[\"pressure\"]\n",
        "    current_humidiy = y[\"humidity\"]\n",
        "    weather_description = z[0][\"description\"]\n",
        "    heat = heatindex(current_temperature,current_pressure)\n",
        "    if heat > 150:\n",
        "      irrigation = \"the plants will have endosmosis so more water should be provided\"\n",
        "    elif (heat >100 and heat <150):\n",
        "      irrigation = \"the plants will have osmosis so more water should be provided\"\n",
        "    else:\n",
        "      irrigation = \"the plants will have endosmosis so more water should be provided\"\n",
        "\n",
        "\n",
        "    return render_template('plant2.html',name= var,what = res[0],how=res[1],cultural=res[2],organic=res[3],inorganic=res[4]\n",
        "                           ,rate = res[5],govdata= res[6],temp=str(current_temperature),pressure =str(current_pressure),humidity =str(current_humidiy),weather =str(weather_description)\n",
        "                           ,heatindex =heatindex)\n",
        "      \n",
        "\n",
        "def data1():\n",
        "    str = \"\"\n",
        "    newList = get_data()\n",
        "    if (len(newList)!=0):\n",
        "        res_list = list(dict.fromkeys(newList))\n",
        "        for i in res_list:\n",
        "            str += i\n",
        "    else:\n",
        "        str =\"no disease found\"\n",
        "    return str\n",
        "\n",
        "if __name__ == '__main__':\n",
        "    app.run()"
      ],
      "execution_count": 15,
      "outputs": [
        {
          "output_type": "stream",
          "text": [
            " * Serving Flask app \"__main__\" (lazy loading)\n",
            " * Environment: production\n",
            "\u001b[31m   WARNING: This is a development server. Do not use it in a production deployment.\u001b[0m\n",
            "\u001b[2m   Use a production WSGI server instead.\u001b[0m\n",
            " * Debug mode: off\n"
          ],
          "name": "stdout"
        },
        {
          "output_type": "stream",
          "text": [
            " * Running on http://127.0.0.1:5000/ (Press CTRL+C to quit)\n"
          ],
          "name": "stderr"
        },
        {
          "output_type": "stream",
          "text": [
            " * Running on http://e08bacd07e44.ngrok.io\n",
            " * Traffic stats available on http://127.0.0.1:4040\n"
          ],
          "name": "stdout"
        },
        {
          "output_type": "stream",
          "text": [
            "127.0.0.1 - - [19/Jul/2020 16:51:13] \"\u001b[37mGET / HTTP/1.1\u001b[0m\" 200 -\n",
            "127.0.0.1 - - [19/Jul/2020 16:51:14] \"\u001b[37mGET /static/boom.css HTTP/1.1\u001b[0m\" 200 -\n",
            "127.0.0.1 - - [19/Jul/2020 16:51:15] \"\u001b[37mGET /calc HTTP/1.1\u001b[0m\" 200 -\n",
            "127.0.0.1 - - [19/Jul/2020 16:51:16] \"\u001b[33mGET /favicon.ico HTTP/1.1\u001b[0m\" 404 -\n"
          ],
          "name": "stderr"
        },
        {
          "output_type": "stream",
          "text": [
            "orange\n"
          ],
          "name": "stdout"
        },
        {
          "output_type": "stream",
          "text": [
            "127.0.0.1 - - [19/Jul/2020 16:51:19] \"\u001b[37mGET /data HTTP/1.1\u001b[0m\" 200 -\n"
          ],
          "name": "stderr"
        }
      ]
    },
    {
      "cell_type": "code",
      "metadata": {
        "id": "OukrKUE8VQJU",
        "colab_type": "code",
        "colab": {}
      },
      "source": [
        ""
      ],
      "execution_count": null,
      "outputs": []
    }
  ]
}